{
 "cells": [
  {
   "cell_type": "code",
   "execution_count": 44,
   "id": "f54d713c",
   "metadata": {},
   "outputs": [],
   "source": [
    "from scipy.constants import m_e, e, c, k\n",
    "from openpmd_viewer import OpenPMDTimeSeries\n",
    "import math\n",
    "import numpy as np"
   ]
  },
  {
   "cell_type": "code",
   "execution_count": 45,
   "id": "cc7aa94b",
   "metadata": {},
   "outputs": [],
   "source": [
    "def calculate_temperature( mass, ux, uy, uz ):\n",
    "    Np = int(len(ux))\n",
    "\n",
    "    vx_mean = np.sum(ux)*c\n",
    "    vy_mean = np.sum(uy)*c\n",
    "    vz_mean = np.sum(uz)*c\n",
    "\n",
    "    v2 = np.sum(ux**2 + uy**2 + uz**2)*c**2\n",
    "\n",
    "    invNp = (1. / Np)\n",
    "    v2 *= invNp\n",
    "    vx_mean *= invNp\n",
    "    vy_mean *= invNp\n",
    "    vz_mean *= invNp\n",
    "    u_mean2 = vx_mean**2 + vy_mean**2 + vz_mean**2\n",
    "    udiff = (v2 - u_mean2)\n",
    "    if udiff < 0.:\n",
    "        return 0.\n",
    "    else:\n",
    "        return (mass / (3. * k)) * udiff"
   ]
  },
  {
   "cell_type": "code",
   "execution_count": 46,
   "id": "32ab2208",
   "metadata": {},
   "outputs": [],
   "source": [
    "# Plasma properties\n",
    "n_i = 1e21\n",
    "n_e = 1e21\n",
    "Te  = 1000\n",
    "Ti  = 100\n",
    "\n",
    "m_i = 4.554691780000000e-30\n",
    "\n",
    "uth_i = math.sqrt(e * Ti / (m_i * c**2))  # Normalized thermal momenta\n",
    "uth_e = math.sqrt(e * Te / (m_e * c**2))\n",
    "\n",
    "# Collision parameters\n",
    "coulomb_log = 15.9"
   ]
  },
  {
   "cell_type": "code",
   "execution_count": 47,
   "id": "ba61602a",
   "metadata": {},
   "outputs": [],
   "source": [
    "ts = OpenPMDTimeSeries('./diags/diag1/')\n",
    "dt = (ts.t[1:]/ts.iterations[1:]).mean()"
   ]
  },
  {
   "cell_type": "code",
   "execution_count": 48,
   "id": "29f6d556",
   "metadata": {},
   "outputs": [
    {
     "data": {
      "image/png": "[encoded data removed]",
      "text/plain": [
       "<Figure size 432x288 with 1 Axes>"
      ]
     },
     "metadata": {
      "needs_background": "light"
     },
     "output_type": "display_data"
    }
   ],
   "source": [
    "\n",
    "import matplotlib.pyplot as plt\n",
    "Tmi = np.zeros(len(ts.iterations))\n",
    "Tme = np.zeros(len(ts.iterations))\n",
    "l = 0\n",
    "\n",
    "for i in ts.iterations:\n",
    "    ux_i = ts.get_particle(['ux'], species='ion', iteration=i)\n",
    "    ux_e = ts.get_particle(['ux'], species='electron', iteration=i)\n",
    "\n",
    "    uy_i = ts.get_particle(['uy'], species='ion', iteration=i)\n",
    "    uy_e = ts.get_particle(['uy'], species='electron', iteration=i)\n",
    "\n",
    "    uz_i = ts.get_particle(['uz'], species='ion', iteration=i)\n",
    "    uz_e = ts.get_particle(['uz'], species='electron', iteration=i)\n",
    "\n",
    "\n",
    "    Tmi[l] = calculate_temperature(m_i, ux_i[0], uy_i[0], uz_i[0])\n",
    "    Tme[l] = calculate_temperature(m_e, ux_e[0], uy_e[0], uz_e[0])\n",
    "    l+=1\n",
    "\n",
    "# NRL relaxation\n",
    "T_e = Te\n",
    "T_i = Ti\n",
    "t_points = 1000\n",
    "Te_theory = np.zeros(t_points)\n",
    "Ti_theory = np.zeros(t_points)\n",
    "Time_plot = ts.iterations[-1] * dt\n",
    "dtp = Time_plot / t_points\n",
    "t_array = np.linspace(0, Time_plot, t_points, endpoint=True)\n",
    "coeff = 1.8e-19 \n",
    "Zi = 1\n",
    "Ze = -1\n",
    "n_i_cgs = n_i / 1000\n",
    "m_e_cgs = 9.1094e-28\n",
    "m_i_cgs = 10*m_e_cgs\n",
    "\n",
    "for i in range(t_points):\n",
    "    Te_theory[i] = T_e\n",
    "    Ti_theory[i] = T_i\n",
    "    nu0 = coeff * Zi**2 * Ze**2 * n_i_cgs * coulomb_log * \\\n",
    "        np.sqrt(m_e_cgs * m_i_cgs) / ((m_e_cgs*T_i + m_i_cgs*T_e)**(3/2)) / 1000\n",
    "    T_e += nu0 * (T_i - T_e) * dtp\n",
    "    T_i += nu0 * (T_e - T_i) * dtp\n",
    "\n",
    "plt.plot(ts.iterations * dt * 1.e15, Tmi * (k/e))\n",
    "plt.plot(ts.iterations * dt * 1.e15, Tme * (k/e))\n",
    "plt.plot(t_array * 1.e15, Ti_theory, 'k')\n",
    "plt.plot(t_array * 1.e15, Te_theory, 'k')\n",
    "plt.legend([\"i+\", \"e-\"])\n",
    "plt.xlabel( 't [fs]' )\n",
    "plt.ylabel( 'T [eV]' )\n",
    "plt.title( 'Temperature of i+, e-, and NRL formula (black lines)' )\n",
    "plt.show()"
   ]
  },
  {
   "cell_type": "code",
   "execution_count": null,
   "id": "afd276d2",
   "metadata": {},
   "outputs": [],
   "source": []
  },
  {
   "cell_type": "code",
   "execution_count": null,
   "id": "4cbc6ea2",
   "metadata": {},
   "outputs": [],
   "source": []
  }
 ],
 "metadata": {
  "kernelspec": {
   "display_name": "Python 3",
   "language": "python",
   "name": "python3"
  },
  "language_info": {
   "codemirror_mode": {
    "name": "ipython",
    "version": 3
   },
   "file_extension": ".py",
   "mimetype": "text/x-python",
   "name": "python",
   "nbconvert_exporter": "python",
   "pygments_lexer": "ipython3",
   "version": "3.9.10"
  }
 },
 "nbformat": 4,
 "nbformat_minor": 5
}
